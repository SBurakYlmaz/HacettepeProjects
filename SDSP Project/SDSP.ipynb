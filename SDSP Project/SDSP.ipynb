{
  "nbformat": 4,
  "nbformat_minor": 0,
  "metadata": {
    "kernelspec": {
      "display_name": "Python 3",
      "language": "python",
      "name": "python3"
    },
    "language_info": {
      "codemirror_mode": {
        "name": "ipython",
        "version": 3
      },
      "file_extension": ".py",
      "mimetype": "text/x-python",
      "name": "python",
      "nbconvert_exporter": "python",
      "pygments_lexer": "ipython3",
      "version": "3.6.8"
    },
    "colab": {
      "name": "SDSP.ipynb",
      "provenance": [],
      "collapsed_sections": [
        "clDpC-2kpGMR",
        "JuZmF4SvpGMc",
        "nqcRgLxhpGMq",
        "2ebDW7Pl9xkV",
        "e-4dIZj6pGN4"
      ],
      "toc_visible": true
    },
    "accelerator": "TPU"
  },
  "cells": [
    {
      "cell_type": "markdown",
      "metadata": {
        "id": "hEQ1ErpCpGL8"
      },
      "source": [
        "# Title of your assignment\n",
        "\n",
        "#### Student no : 21627581, 21627868\n",
        "#### Student name : Mehmet Sezer, Burak Yılmaz\n",
        "\n"
      ]
    },
    {
      "cell_type": "markdown",
      "metadata": {
        "id": "8YmERLjspGMH"
      },
      "source": [
        "## Table of Content\n",
        "\n",
        "[Purpose](#purpose)   \n",
        "[Data Understanding](#data_understanding)   \n",
        "[Data Preparation](#data_preparation)   \n",
        "[Modeling for Classification](#classificationmodel)  \n",
        "[Evaluation](#evaluation)  \n",
        "[References](#references)   \n"
      ]
    },
    {
      "cell_type": "markdown",
      "metadata": {
        "id": "clDpC-2kpGMR"
      },
      "source": [
        "## Purpose <a class=\"anchor\" id=\"purpose\"></a>"
      ]
    },
    {
      "cell_type": "markdown",
      "metadata": {
        "id": "It7OxV2ypGMS"
      },
      "source": [
        "There are some diseases which are hard to diagnose by physicians. For instance, the disease\n",
        "may be rare and the physician who is responsible, has no experience on that disease.\n",
        "Or, there may be other diseases with similar symptoms and the physician can not make sure\n",
        "about her/his diagnosis. Whatever the reason is, this sort of cases typically result in\n",
        "unnecessary and expensive tests, e.g., blood work, x-rays, MRIs, etc. Besides wasting\n",
        "valuable resources, putting patients into distressing situations is also an issue. Therefore,\n",
        "diagnosing a disease by using resources optimally and without sacrifing the healthcare\n",
        "quality is of great importance.\n",
        "\n",
        "In this project, we built a machine learning (ML) model to predict possible\n",
        "diseases for a given patient. Moreover, we developed a Web application to front our\n",
        "model and allow any physicians to use our model while diagnosing their patients. Our\n",
        "application will produce a list of possible diseases with their probabilities. The idea here is to\n",
        "allow the physician start diagnosis process by considering the most possible disease first."
      ]
    },
    {
      "cell_type": "markdown",
      "metadata": {
        "id": "JuZmF4SvpGMc"
      },
      "source": [
        "## Data Understanding<a class=\"anchor\" id=\"data_understanding\"></a>"
      ]
    },
    {
      "cell_type": "markdown",
      "metadata": {
        "id": "pWHS7kZci0pe"
      },
      "source": [
        "Import needed libraries"
      ]
    },
    {
      "cell_type": "code",
      "metadata": {
        "id": "kJENPg1KpGMd"
      },
      "source": [
        "import numpy as np\n",
        "import pandas as pd\n",
        "import seaborn as sns\n",
        "import matplotlib.pyplot as plt\n",
        "\n",
        "from sklearn import preprocessing\n",
        "from scipy import stats\n",
        "from sklearn.impute import KNNImputer\n",
        "from sklearn.ensemble import RandomForestClassifier\n",
        "from sklearn.model_selection import cross_val_score,RepeatedStratifiedKFold,train_test_split,GridSearchCV\n",
        "from sklearn.pipeline import Pipeline\n",
        "from sklearn.preprocessing import MinMaxScaler\n",
        "from sklearn.metrics import classification_report,confusion_matrix\n",
        "from sklearn.tree import DecisionTreeClassifier\n",
        "from sklearn.svm import SVC\n",
        "from sklearn.linear_model import LogisticRegression\n",
        "from plotly.subplots import make_subplots\n",
        "import plotly.graph_objs as go\n",
        "import joblib"
      ],
      "execution_count": 1,
      "outputs": []
    },
    {
      "cell_type": "markdown",
      "metadata": {
        "id": "nWf-t5gSi3S7"
      },
      "source": [
        "Import dataset"
      ]
    },
    {
      "cell_type": "code",
      "metadata": {
        "colab": {
          "base_uri": "https://localhost:8080/",
          "height": 0
        },
        "id": "-Dv8Fggbh27h",
        "outputId": "41da8cec-99d5-4df1-d5cb-856d3a9f8665"
      },
      "source": [
        "df = pd.read_excel('sdsp_patients.xlsx') \n",
        "df.head()"
      ],
      "execution_count": 2,
      "outputs": [
        {
          "output_type": "execute_result",
          "data": {
            "text/html": [
              "<div>\n",
              "<style scoped>\n",
              "    .dataframe tbody tr th:only-of-type {\n",
              "        vertical-align: middle;\n",
              "    }\n",
              "\n",
              "    .dataframe tbody tr th {\n",
              "        vertical-align: top;\n",
              "    }\n",
              "\n",
              "    .dataframe thead th {\n",
              "        text-align: right;\n",
              "    }\n",
              "</style>\n",
              "<table border=\"1\" class=\"dataframe\">\n",
              "  <thead>\n",
              "    <tr style=\"text-align: right;\">\n",
              "      <th></th>\n",
              "      <th>Disease</th>\n",
              "      <th>Feature_1</th>\n",
              "      <th>Feature_2</th>\n",
              "      <th>Feature_3</th>\n",
              "      <th>Feature_4</th>\n",
              "      <th>Feature_5</th>\n",
              "      <th>Feature_6</th>\n",
              "      <th>Feature_7</th>\n",
              "      <th>Feature_8</th>\n",
              "      <th>Feature_9</th>\n",
              "      <th>Feature_10</th>\n",
              "      <th>Feature_11</th>\n",
              "      <th>Feature_12</th>\n",
              "      <th>Feature_13</th>\n",
              "      <th>Feature_14</th>\n",
              "      <th>Feature_15</th>\n",
              "      <th>Feature_16</th>\n",
              "      <th>Feature_17</th>\n",
              "      <th>Feature_18</th>\n",
              "      <th>Feature_19</th>\n",
              "      <th>Feature_20</th>\n",
              "      <th>Feature_21</th>\n",
              "      <th>Feature_22</th>\n",
              "      <th>Feature_23</th>\n",
              "      <th>Feature_24</th>\n",
              "      <th>Feature_25</th>\n",
              "      <th>Feature_26</th>\n",
              "      <th>Feature_27</th>\n",
              "      <th>Feature_28</th>\n",
              "      <th>Feature_29</th>\n",
              "      <th>Feature_30</th>\n",
              "      <th>Feature_31</th>\n",
              "      <th>Feature_32</th>\n",
              "      <th>Feature_33</th>\n",
              "      <th>Feature_34</th>\n",
              "      <th>Feature_35</th>\n",
              "      <th>Feature_36</th>\n",
              "      <th>Feature_37</th>\n",
              "      <th>Feature_38</th>\n",
              "      <th>Feature_39</th>\n",
              "      <th>Feature_40</th>\n",
              "      <th>Feature_41</th>\n",
              "      <th>Feature_42</th>\n",
              "      <th>Feature_43</th>\n",
              "      <th>Feature_44</th>\n",
              "      <th>Feature_45</th>\n",
              "      <th>Feature_46</th>\n",
              "      <th>Feature_47</th>\n",
              "      <th>Feature_48</th>\n",
              "      <th>Feature_49</th>\n",
              "      <th>Feature_50</th>\n",
              "    </tr>\n",
              "  </thead>\n",
              "  <tbody>\n",
              "    <tr>\n",
              "      <th>0</th>\n",
              "      <td>Disease_1</td>\n",
              "      <td>Male</td>\n",
              "      <td>28.0</td>\n",
              "      <td>130</td>\n",
              "      <td>96.0</td>\n",
              "      <td>2.0</td>\n",
              "      <td>No</td>\n",
              "      <td>Yes</td>\n",
              "      <td>Yes</td>\n",
              "      <td>No</td>\n",
              "      <td>No</td>\n",
              "      <td>No</td>\n",
              "      <td>No</td>\n",
              "      <td>No</td>\n",
              "      <td>No</td>\n",
              "      <td>No</td>\n",
              "      <td>No</td>\n",
              "      <td>No</td>\n",
              "      <td>No</td>\n",
              "      <td>No</td>\n",
              "      <td>No</td>\n",
              "      <td>No</td>\n",
              "      <td>No</td>\n",
              "      <td>No</td>\n",
              "      <td>No</td>\n",
              "      <td>No</td>\n",
              "      <td>No</td>\n",
              "      <td>No</td>\n",
              "      <td>Every Day</td>\n",
              "      <td>No Difference</td>\n",
              "      <td>No</td>\n",
              "      <td>Yes</td>\n",
              "      <td>Yes</td>\n",
              "      <td>No</td>\n",
              "      <td>No</td>\n",
              "      <td>No</td>\n",
              "      <td>No</td>\n",
              "      <td>No</td>\n",
              "      <td>No</td>\n",
              "      <td>No</td>\n",
              "      <td>No</td>\n",
              "      <td>No</td>\n",
              "      <td>No</td>\n",
              "      <td>No</td>\n",
              "      <td>0</td>\n",
              "      <td>No</td>\n",
              "      <td>No</td>\n",
              "      <td>No</td>\n",
              "      <td>No</td>\n",
              "      <td>No</td>\n",
              "      <td>No</td>\n",
              "    </tr>\n",
              "    <tr>\n",
              "      <th>1</th>\n",
              "      <td>Disease_1</td>\n",
              "      <td>Male</td>\n",
              "      <td>18.0</td>\n",
              "      <td>95</td>\n",
              "      <td>46.0</td>\n",
              "      <td>3.0</td>\n",
              "      <td>Yes</td>\n",
              "      <td>No</td>\n",
              "      <td>No</td>\n",
              "      <td>No</td>\n",
              "      <td>No</td>\n",
              "      <td>No</td>\n",
              "      <td>No</td>\n",
              "      <td>No</td>\n",
              "      <td>No</td>\n",
              "      <td>No</td>\n",
              "      <td>No</td>\n",
              "      <td>No</td>\n",
              "      <td>No</td>\n",
              "      <td>No</td>\n",
              "      <td>No</td>\n",
              "      <td>No</td>\n",
              "      <td>No</td>\n",
              "      <td>No</td>\n",
              "      <td>No</td>\n",
              "      <td>No</td>\n",
              "      <td>No</td>\n",
              "      <td>Yes</td>\n",
              "      <td>Every Day</td>\n",
              "      <td>Evenings</td>\n",
              "      <td>Yes</td>\n",
              "      <td>Yes</td>\n",
              "      <td>Yes</td>\n",
              "      <td>No</td>\n",
              "      <td>No</td>\n",
              "      <td>No</td>\n",
              "      <td>No</td>\n",
              "      <td>No</td>\n",
              "      <td>No</td>\n",
              "      <td>No</td>\n",
              "      <td>No</td>\n",
              "      <td>No</td>\n",
              "      <td>Yes</td>\n",
              "      <td>No</td>\n",
              "      <td>0</td>\n",
              "      <td>No</td>\n",
              "      <td>No</td>\n",
              "      <td>No</td>\n",
              "      <td>No</td>\n",
              "      <td>No</td>\n",
              "      <td>No</td>\n",
              "    </tr>\n",
              "    <tr>\n",
              "      <th>2</th>\n",
              "      <td>Disease_1</td>\n",
              "      <td>Male</td>\n",
              "      <td>44.0</td>\n",
              "      <td>152</td>\n",
              "      <td>150.0</td>\n",
              "      <td>1.0</td>\n",
              "      <td>No</td>\n",
              "      <td>Yes</td>\n",
              "      <td>No</td>\n",
              "      <td>Yes</td>\n",
              "      <td>No</td>\n",
              "      <td>No</td>\n",
              "      <td>No</td>\n",
              "      <td>No</td>\n",
              "      <td>No</td>\n",
              "      <td>No</td>\n",
              "      <td>No</td>\n",
              "      <td>No</td>\n",
              "      <td>No</td>\n",
              "      <td>No</td>\n",
              "      <td>No</td>\n",
              "      <td>No</td>\n",
              "      <td>No</td>\n",
              "      <td>No</td>\n",
              "      <td>No</td>\n",
              "      <td>No</td>\n",
              "      <td>No</td>\n",
              "      <td>No</td>\n",
              "      <td>Every Day</td>\n",
              "      <td>No Difference</td>\n",
              "      <td>No</td>\n",
              "      <td>Yes</td>\n",
              "      <td>Yes</td>\n",
              "      <td>Yes</td>\n",
              "      <td>No</td>\n",
              "      <td>No</td>\n",
              "      <td>No</td>\n",
              "      <td>Yes</td>\n",
              "      <td>No</td>\n",
              "      <td>No</td>\n",
              "      <td>No</td>\n",
              "      <td>Yes</td>\n",
              "      <td>No</td>\n",
              "      <td>No</td>\n",
              "      <td>0</td>\n",
              "      <td>No</td>\n",
              "      <td>No</td>\n",
              "      <td>No</td>\n",
              "      <td>No</td>\n",
              "      <td>No</td>\n",
              "      <td>No</td>\n",
              "    </tr>\n",
              "    <tr>\n",
              "      <th>3</th>\n",
              "      <td>Disease_1</td>\n",
              "      <td>Male</td>\n",
              "      <td>19.0</td>\n",
              "      <td>112</td>\n",
              "      <td>66.0</td>\n",
              "      <td>18.0</td>\n",
              "      <td>No</td>\n",
              "      <td>No</td>\n",
              "      <td>No</td>\n",
              "      <td>Yes</td>\n",
              "      <td>No</td>\n",
              "      <td>No</td>\n",
              "      <td>No</td>\n",
              "      <td>No</td>\n",
              "      <td>No</td>\n",
              "      <td>Yes</td>\n",
              "      <td>No</td>\n",
              "      <td>No</td>\n",
              "      <td>No</td>\n",
              "      <td>No</td>\n",
              "      <td>No</td>\n",
              "      <td>Yes</td>\n",
              "      <td>No</td>\n",
              "      <td>No</td>\n",
              "      <td>No</td>\n",
              "      <td>No</td>\n",
              "      <td>No</td>\n",
              "      <td>No</td>\n",
              "      <td>Every Day</td>\n",
              "      <td>Evenings</td>\n",
              "      <td>Yes</td>\n",
              "      <td>No</td>\n",
              "      <td>Yes</td>\n",
              "      <td>Yes</td>\n",
              "      <td>No</td>\n",
              "      <td>No</td>\n",
              "      <td>No</td>\n",
              "      <td>No</td>\n",
              "      <td>No</td>\n",
              "      <td>No</td>\n",
              "      <td>No</td>\n",
              "      <td>No</td>\n",
              "      <td>Yes</td>\n",
              "      <td>No</td>\n",
              "      <td>0</td>\n",
              "      <td>No</td>\n",
              "      <td>No</td>\n",
              "      <td>No</td>\n",
              "      <td>No</td>\n",
              "      <td>No</td>\n",
              "      <td>No</td>\n",
              "    </tr>\n",
              "    <tr>\n",
              "      <th>4</th>\n",
              "      <td>Disease_1</td>\n",
              "      <td>Male</td>\n",
              "      <td>17.5</td>\n",
              "      <td>105.5</td>\n",
              "      <td>54.0</td>\n",
              "      <td>3.0</td>\n",
              "      <td>No</td>\n",
              "      <td>No</td>\n",
              "      <td>Yes</td>\n",
              "      <td>Yes</td>\n",
              "      <td>No</td>\n",
              "      <td>No</td>\n",
              "      <td>No</td>\n",
              "      <td>No</td>\n",
              "      <td>No</td>\n",
              "      <td>No</td>\n",
              "      <td>No</td>\n",
              "      <td>No</td>\n",
              "      <td>No</td>\n",
              "      <td>No</td>\n",
              "      <td>No</td>\n",
              "      <td>No</td>\n",
              "      <td>No</td>\n",
              "      <td>No</td>\n",
              "      <td>Yes</td>\n",
              "      <td>No</td>\n",
              "      <td>No</td>\n",
              "      <td>No</td>\n",
              "      <td>Every Day</td>\n",
              "      <td>Evenings</td>\n",
              "      <td>Yes</td>\n",
              "      <td>Yes</td>\n",
              "      <td>Yes</td>\n",
              "      <td>Yes</td>\n",
              "      <td>No</td>\n",
              "      <td>No</td>\n",
              "      <td>No</td>\n",
              "      <td>No</td>\n",
              "      <td>No</td>\n",
              "      <td>No</td>\n",
              "      <td>No</td>\n",
              "      <td>No</td>\n",
              "      <td>No</td>\n",
              "      <td>No</td>\n",
              "      <td>0</td>\n",
              "      <td>No</td>\n",
              "      <td>No</td>\n",
              "      <td>No</td>\n",
              "      <td>No</td>\n",
              "      <td>Yes</td>\n",
              "      <td>No</td>\n",
              "    </tr>\n",
              "  </tbody>\n",
              "</table>\n",
              "</div>"
            ],
            "text/plain": [
              "     Disease Feature_1  Feature_2  ... Feature_48  Feature_49  Feature_50\n",
              "0  Disease_1      Male       28.0  ...         No          No          No\n",
              "1  Disease_1      Male       18.0  ...         No          No          No\n",
              "2  Disease_1      Male       44.0  ...         No          No          No\n",
              "3  Disease_1      Male       19.0  ...         No          No          No\n",
              "4  Disease_1      Male       17.5  ...         No         Yes          No\n",
              "\n",
              "[5 rows x 51 columns]"
            ]
          },
          "metadata": {
            "tags": []
          },
          "execution_count": 2
        }
      ]
    },
    {
      "cell_type": "markdown",
      "metadata": {
        "id": "SgyVTitclG1p"
      },
      "source": [
        "Numbers of records and features"
      ]
    },
    {
      "cell_type": "code",
      "metadata": {
        "colab": {
          "base_uri": "https://localhost:8080/"
        },
        "id": "PuenJzpgk9vK",
        "outputId": "b8df5c02-6595-4fcd-eb1d-58e628a8c7d2"
      },
      "source": [
        "records, features = df.shape\n",
        "print(\"There are {} features\".format(features))\n",
        "print(\"There are {} records\".format(records))"
      ],
      "execution_count": 3,
      "outputs": [
        {
          "output_type": "stream",
          "text": [
            "There are 51 features\n",
            "There are 400 records\n"
          ],
          "name": "stdout"
        }
      ]
    },
    {
      "cell_type": "markdown",
      "metadata": {
        "id": "olYEr_b3lnCv"
      },
      "source": [
        "Information for features, we can get non-null count from here"
      ]
    },
    {
      "cell_type": "code",
      "metadata": {
        "colab": {
          "base_uri": "https://localhost:8080/"
        },
        "id": "S_ypnASRlNCu",
        "outputId": "1eb51e2d-5c80-44f5-ce02-61777425826b"
      },
      "source": [
        "df.info()"
      ],
      "execution_count": 4,
      "outputs": [
        {
          "output_type": "stream",
          "text": [
            "<class 'pandas.core.frame.DataFrame'>\n",
            "RangeIndex: 400 entries, 0 to 399\n",
            "Data columns (total 51 columns):\n",
            " #   Column      Non-Null Count  Dtype  \n",
            "---  ------      --------------  -----  \n",
            " 0   Disease     400 non-null    object \n",
            " 1   Feature_1   400 non-null    object \n",
            " 2   Feature_2   400 non-null    float64\n",
            " 3   Feature_3   400 non-null    object \n",
            " 4   Feature_4   400 non-null    float64\n",
            " 5   Feature_5   400 non-null    float64\n",
            " 6   Feature_6   400 non-null    object \n",
            " 7   Feature_7   400 non-null    object \n",
            " 8   Feature_8   400 non-null    object \n",
            " 9   Feature_9   400 non-null    object \n",
            " 10  Feature_10  400 non-null    object \n",
            " 11  Feature_11  400 non-null    object \n",
            " 12  Feature_12  400 non-null    object \n",
            " 13  Feature_13  400 non-null    object \n",
            " 14  Feature_14  400 non-null    object \n",
            " 15  Feature_15  400 non-null    object \n",
            " 16  Feature_16  400 non-null    object \n",
            " 17  Feature_17  400 non-null    object \n",
            " 18  Feature_18  400 non-null    object \n",
            " 19  Feature_19  400 non-null    object \n",
            " 20  Feature_20  400 non-null    object \n",
            " 21  Feature_21  400 non-null    object \n",
            " 22  Feature_22  400 non-null    object \n",
            " 23  Feature_23  400 non-null    object \n",
            " 24  Feature_24  400 non-null    object \n",
            " 25  Feature_25  400 non-null    object \n",
            " 26  Feature_26  400 non-null    object \n",
            " 27  Feature_27  400 non-null    object \n",
            " 28  Feature_28  399 non-null    object \n",
            " 29  Feature_29  400 non-null    object \n",
            " 30  Feature_30  400 non-null    object \n",
            " 31  Feature_31  400 non-null    object \n",
            " 32  Feature_32  384 non-null    object \n",
            " 33  Feature_33  388 non-null    object \n",
            " 34  Feature_34  400 non-null    object \n",
            " 35  Feature_35  357 non-null    object \n",
            " 36  Feature_36  141 non-null    object \n",
            " 37  Feature_37  400 non-null    object \n",
            " 38  Feature_38  400 non-null    object \n",
            " 39  Feature_39  400 non-null    object \n",
            " 40  Feature_40  400 non-null    object \n",
            " 41  Feature_41  400 non-null    object \n",
            " 42  Feature_42  400 non-null    object \n",
            " 43  Feature_43  400 non-null    object \n",
            " 44  Feature_44  400 non-null    int64  \n",
            " 45  Feature_45  400 non-null    object \n",
            " 46  Feature_46  400 non-null    object \n",
            " 47  Feature_47  400 non-null    object \n",
            " 48  Feature_48  400 non-null    object \n",
            " 49  Feature_49  400 non-null    object \n",
            " 50  Feature_50  400 non-null    object \n",
            "dtypes: float64(3), int64(1), object(47)\n",
            "memory usage: 159.5+ KB\n"
          ],
          "name": "stdout"
        }
      ]
    },
    {
      "cell_type": "markdown",
      "metadata": {
        "id": "7FsavxVNodxj"
      },
      "source": [
        "Map spaces to None"
      ]
    },
    {
      "cell_type": "code",
      "metadata": {
        "id": "mlR_1potoBC9"
      },
      "source": [
        "df = df.replace({r'^\\s*$': None}, regex=True)"
      ],
      "execution_count": 5,
      "outputs": []
    },
    {
      "cell_type": "markdown",
      "metadata": {
        "id": "hOXeDzypWIC0"
      },
      "source": [
        "Change 'Feature_3' column type as 'float64'"
      ]
    },
    {
      "cell_type": "code",
      "metadata": {
        "id": "6peMED5FmmJK"
      },
      "source": [
        "df['Feature_3'] = df['Feature_3'].astype('float64')"
      ],
      "execution_count": 6,
      "outputs": []
    },
    {
      "cell_type": "markdown",
      "metadata": {
        "id": "eMULGYFSWMvO"
      },
      "source": [
        "Prepare data for Django form part."
      ]
    },
    {
      "cell_type": "code",
      "metadata": {
        "id": "ffcJhuabePf8"
      },
      "source": [
        "form_data = {}\n",
        "categorical_data = {}\n",
        "numerics = ['int16', 'int32', 'int64', 'float16', 'float32', 'float64']\n",
        "for i in df.columns:\n",
        "    col_type = df[i].dtypes\n",
        "    if(col_type == 'object'):\n",
        "      values = df[i].dropna().unique()\n",
        "      if('Yes' in values or 'No' in values):\n",
        "        form_data[i] = 'yes-no'\n",
        "      else:\n",
        "        form_data[i] = 'categorical'\n",
        "        categorical_data[i] = list(values)\n",
        "    else:\n",
        "      form_data[i] = str(col_type)"
      ],
      "execution_count": 7,
      "outputs": []
    },
    {
      "cell_type": "markdown",
      "metadata": {
        "id": "_YY6jwn7lT37"
      },
      "source": [
        "Statistical informations for numeric features"
      ]
    },
    {
      "cell_type": "code",
      "metadata": {
        "colab": {
          "base_uri": "https://localhost:8080/",
          "height": 0
        },
        "id": "CeEzzdrFlFQq",
        "outputId": "38eb25ea-f25b-4667-ca6b-4db2db8e821d"
      },
      "source": [
        "df.describe()"
      ],
      "execution_count": 8,
      "outputs": [
        {
          "output_type": "execute_result",
          "data": {
            "text/html": [
              "<div>\n",
              "<style scoped>\n",
              "    .dataframe tbody tr th:only-of-type {\n",
              "        vertical-align: middle;\n",
              "    }\n",
              "\n",
              "    .dataframe tbody tr th {\n",
              "        vertical-align: top;\n",
              "    }\n",
              "\n",
              "    .dataframe thead th {\n",
              "        text-align: right;\n",
              "    }\n",
              "</style>\n",
              "<table border=\"1\" class=\"dataframe\">\n",
              "  <thead>\n",
              "    <tr style=\"text-align: right;\">\n",
              "      <th></th>\n",
              "      <th>Feature_2</th>\n",
              "      <th>Feature_3</th>\n",
              "      <th>Feature_4</th>\n",
              "      <th>Feature_5</th>\n",
              "      <th>Feature_44</th>\n",
              "    </tr>\n",
              "  </thead>\n",
              "  <tbody>\n",
              "    <tr>\n",
              "      <th>count</th>\n",
              "      <td>400.000000</td>\n",
              "      <td>398.000000</td>\n",
              "      <td>400.000000</td>\n",
              "      <td>400.000000</td>\n",
              "      <td>400.000000</td>\n",
              "    </tr>\n",
              "    <tr>\n",
              "      <th>mean</th>\n",
              "      <td>29.410125</td>\n",
              "      <td>127.770603</td>\n",
              "      <td>108.104000</td>\n",
              "      <td>23.038050</td>\n",
              "      <td>0.457500</td>\n",
              "    </tr>\n",
              "    <tr>\n",
              "      <th>std</th>\n",
              "      <td>14.350309</td>\n",
              "      <td>22.529334</td>\n",
              "      <td>49.526425</td>\n",
              "      <td>24.742478</td>\n",
              "      <td>1.547314</td>\n",
              "    </tr>\n",
              "    <tr>\n",
              "      <th>min</th>\n",
              "      <td>10.000000</td>\n",
              "      <td>76.000000</td>\n",
              "      <td>12.000000</td>\n",
              "      <td>0.060000</td>\n",
              "      <td>0.000000</td>\n",
              "    </tr>\n",
              "    <tr>\n",
              "      <th>25%</th>\n",
              "      <td>18.000000</td>\n",
              "      <td>110.000000</td>\n",
              "      <td>64.500000</td>\n",
              "      <td>6.000000</td>\n",
              "      <td>0.000000</td>\n",
              "    </tr>\n",
              "    <tr>\n",
              "      <th>50%</th>\n",
              "      <td>25.525000</td>\n",
              "      <td>128.000000</td>\n",
              "      <td>108.000000</td>\n",
              "      <td>12.000000</td>\n",
              "      <td>0.000000</td>\n",
              "    </tr>\n",
              "    <tr>\n",
              "      <th>75%</th>\n",
              "      <td>38.000000</td>\n",
              "      <td>147.000000</td>\n",
              "      <td>144.000000</td>\n",
              "      <td>36.000000</td>\n",
              "      <td>0.000000</td>\n",
              "    </tr>\n",
              "    <tr>\n",
              "      <th>max</th>\n",
              "      <td>90.000000</td>\n",
              "      <td>181.000000</td>\n",
              "      <td>213.000000</td>\n",
              "      <td>168.000000</td>\n",
              "      <td>9.000000</td>\n",
              "    </tr>\n",
              "  </tbody>\n",
              "</table>\n",
              "</div>"
            ],
            "text/plain": [
              "        Feature_2   Feature_3   Feature_4   Feature_5  Feature_44\n",
              "count  400.000000  398.000000  400.000000  400.000000  400.000000\n",
              "mean    29.410125  127.770603  108.104000   23.038050    0.457500\n",
              "std     14.350309   22.529334   49.526425   24.742478    1.547314\n",
              "min     10.000000   76.000000   12.000000    0.060000    0.000000\n",
              "25%     18.000000  110.000000   64.500000    6.000000    0.000000\n",
              "50%     25.525000  128.000000  108.000000   12.000000    0.000000\n",
              "75%     38.000000  147.000000  144.000000   36.000000    0.000000\n",
              "max     90.000000  181.000000  213.000000  168.000000    9.000000"
            ]
          },
          "metadata": {
            "tags": []
          },
          "execution_count": 8
        }
      ]
    },
    {
      "cell_type": "markdown",
      "metadata": {
        "id": "-UijbjU9l4gd"
      },
      "source": [
        "Print unique Disease feature values"
      ]
    },
    {
      "cell_type": "code",
      "metadata": {
        "colab": {
          "base_uri": "https://localhost:8080/"
        },
        "id": "0fu7mJFhlTlR",
        "outputId": "773cd2d2-d00f-43ea-d6a0-4db71fee3430"
      },
      "source": [
        "df['Disease'].unique()"
      ],
      "execution_count": 9,
      "outputs": [
        {
          "output_type": "execute_result",
          "data": {
            "text/plain": [
              "array(['Disease_1', 'Disease_2', 'Disease_3', 'Disease_4'], dtype=object)"
            ]
          },
          "metadata": {
            "tags": []
          },
          "execution_count": 9
        }
      ]
    },
    {
      "cell_type": "markdown",
      "metadata": {
        "id": "Rnq7Cpjkl8r1"
      },
      "source": [
        "Distribution of Disease feature"
      ]
    },
    {
      "cell_type": "code",
      "metadata": {
        "colab": {
          "base_uri": "https://localhost:8080/",
          "height": 0
        },
        "id": "yH9H7nDRl8ku",
        "outputId": "a10e05cd-aaed-46e8-b1da-9bb0d62970b5"
      },
      "source": [
        "sns.countplot(x=df['Disease'])"
      ],
      "execution_count": 10,
      "outputs": [
        {
          "output_type": "execute_result",
          "data": {
            "text/plain": [
              "<matplotlib.axes._subplots.AxesSubplot at 0x7f4dbfba2110>"
            ]
          },
          "metadata": {
            "tags": []
          },
          "execution_count": 10
        },
        {
          "output_type": "display_data",
          "data": {
            "image/png": "[encoded data removed]",
            "text/plain": [
              "<Figure size 432x288 with 1 Axes>"
            ]
          },
          "metadata": {
            "tags": [],
            "needs_background": "light"
          }
        }
      ]
    },
    {
      "cell_type": "markdown",
      "metadata": {
        "id": "nqcRgLxhpGMq"
      },
      "source": [
        "## Data Preparation<a class=\"anchor\" id=\"data_preparation\"></a>"
      ]
    },
    {
      "cell_type": "markdown",
      "metadata": {
        "id": "yiHKreUwhTgr"
      },
      "source": [
        "Remove columns which have same value in all row"
      ]
    },
    {
      "cell_type": "code",
      "metadata": {
        "id": "gVALm5OwhLA2"
      },
      "source": [
        "nunique = df.dropna(axis=1).apply(pd.Series.nunique)\n",
        "cols_to_drop = nunique[nunique == 1].index\n",
        "df = df.drop(cols_to_drop, axis=1)"
      ],
      "execution_count": 11,
      "outputs": []
    },
    {
      "cell_type": "markdown",
      "metadata": {
        "id": "Ir_8b3j9WLbk"
      },
      "source": [
        "Understand the correlation between features"
      ]
    },
    {
      "cell_type": "code",
      "metadata": {
        "colab": {
          "base_uri": "https://localhost:8080/",
          "height": 615
        },
        "id": "aTTkEE8NWHps",
        "outputId": "80e5087f-a639-4f6d-ecf5-2e8058f9b02d"
      },
      "source": [
        "plt.figure(figsize=(15, 10))\n",
        "sns.heatmap(df.corr(), annot=True)"
      ],
      "execution_count": 12,
      "outputs": [
        {
          "output_type": "execute_result",
          "data": {
            "text/plain": [
              "<matplotlib.axes._subplots.AxesSubplot at 0x7f4dbfc08d50>"
            ]
          },
          "metadata": {
            "tags": []
          },
          "execution_count": 12
        },
        {
          "output_type": "display_data",
          "data": {
            "image/png": "[encoded data removed]",
            "text/plain": [
              "<Figure size 1080x720 with 2 Axes>"
            ]
          },
          "metadata": {
            "tags": [],
            "needs_background": "light"
          }
        }
      ]
    },
    {
      "cell_type": "markdown",
      "metadata": {
        "id": "fvc1J7JCXZgu"
      },
      "source": [
        "Drop high correlation(anyone has correlation to any feature higher than 0.90) features"
      ]
    },
    {
      "cell_type": "code",
      "metadata": {
        "id": "g_PIp_b1XZQ1"
      },
      "source": [
        "# Create correlation matrix\n",
        "corr_matrix = df.corr().abs()\n",
        "\n",
        "# Select upper triangle of correlation matrix\n",
        "upper = corr_matrix.where(np.triu(np.ones(corr_matrix.shape), k=1).astype(np.bool_))\n",
        "\n",
        "# Find features with correlation greater than 0.90\n",
        "to_drop = [column for column in upper.columns if any(upper[column] > 0.90)]\n",
        "\n",
        "# Drop features \n",
        "df.drop(to_drop, axis=1, inplace=True)"
      ],
      "execution_count": 13,
      "outputs": []
    },
    {
      "cell_type": "markdown",
      "metadata": {
        "id": "fn0DzPAFW3EY"
      },
      "source": [
        "**Box plots** are a graphical depiction of numerical data through their quantiles. It is a very simple but effective way to visualize outliers. Think about the lower and upper whiskers as the boundaries of the data distribution. Any data points that show above or below the whiskers, can be considered outliers or anomalous.\n",
        "\n",
        "As you can see, it considers everything above 75 or below ~ -35 to be an outlier."
      ]
    },
    {
      "cell_type": "code",
      "metadata": {
        "colab": {
          "base_uri": "https://localhost:8080/",
          "height": 282
        },
        "id": "imQXynAwtn9W",
        "outputId": "d4e2390a-c88f-4ae3-c20a-cbc7274b9340"
      },
      "source": [
        "sns.boxplot(data=df) \n",
        "plt.title('Boxplot') \n",
        "plt.show()"
      ],
      "execution_count": 14,
      "outputs": [
        {
          "output_type": "display_data",
          "data": {
            "image/png": "[encoded data removed]",
            "text/plain": [
              "<Figure size 432x288 with 1 Axes>"
            ]
          },
          "metadata": {
            "tags": [],
            "needs_background": "light"
          }
        }
      ]
    },
    {
      "cell_type": "markdown",
      "metadata": {
        "id": "lzCOzL2YjVO9"
      },
      "source": [
        "Remove anomalies"
      ]
    },
    {
      "cell_type": "code",
      "metadata": {
        "id": "2rXCSh6Bh3HP"
      },
      "source": [
        "df_num = df.select_dtypes(include=['float64', 'int64'])\n",
        "df = df[(np.abs(stats.zscore(df_num)) < 3).all(axis=1)]"
      ],
      "execution_count": 15,
      "outputs": []
    },
    {
      "cell_type": "code",
      "metadata": {
        "colab": {
          "base_uri": "https://localhost:8080/",
          "height": 282
        },
        "id": "Beu2ihE6smfy",
        "outputId": "5b3bf4a4-952b-47b8-c9e5-22bcfd403310"
      },
      "source": [
        "sns.boxplot(data=df)\n",
        "plt.title('Boxplot')\n",
        "plt.show()"
      ],
      "execution_count": 16,
      "outputs": [
        {
          "output_type": "display_data",
          "data": {
            "image/png": "[encoded data removed]",
            "text/plain": [
              "<Figure size 432x288 with 1 Axes>"
            ]
          },
          "metadata": {
            "tags": [],
            "needs_background": "light"
          }
        }
      ]
    },
    {
      "cell_type": "markdown",
      "metadata": {
        "id": "js9zXvd7mK_q"
      },
      "source": [
        "Map object type features to numeric"
      ]
    },
    {
      "cell_type": "code",
      "metadata": {
        "id": "-UvWIGQFh7GY"
      },
      "source": [
        "df = df.replace({'Yes': 1, 'No': 0, 'Female': 1, 'Male': 0})"
      ],
      "execution_count": 17,
      "outputs": []
    },
    {
      "cell_type": "markdown",
      "metadata": {
        "id": "UJAikpXfne4G"
      },
      "source": [
        "Map Diseases feature to numeric values"
      ]
    },
    {
      "cell_type": "code",
      "metadata": {
        "id": "bONrzLtUh9Jk"
      },
      "source": [
        "df['Disease'] = df['Disease'].replace({'Disease_1': 0, 'Disease_2': 1, 'Disease_3': 2, 'Disease_4': 3})"
      ],
      "execution_count": 18,
      "outputs": []
    },
    {
      "cell_type": "markdown",
      "metadata": {
        "id": "oJ70H-ujmVOc"
      },
      "source": [
        "**get_dummies**: Convert categorical variable into dummy/indicator variables.\n",
        "\n",
        "Get dummies for categorical features"
      ]
    },
    {
      "cell_type": "code",
      "metadata": {
        "id": "qtKox_5th9Hh"
      },
      "source": [
        "object_col = [col for col in df.columns if df[col].dtype == 'object']\n",
        "df = pd.get_dummies(data=df, columns=object_col,drop_first=True)"
      ],
      "execution_count": 19,
      "outputs": []
    },
    {
      "cell_type": "markdown",
      "metadata": {
        "id": "_fbD_vfsnpac"
      },
      "source": [
        "Feature_12 have a lot of repeated \"0\" value so we can drop this feature"
      ]
    },
    {
      "cell_type": "code",
      "metadata": {
        "colab": {
          "base_uri": "https://localhost:8080/"
        },
        "id": "LRwroj3YVaZy",
        "outputId": "35852a3b-7ff5-48ae-b3aa-9c292425fb10"
      },
      "source": [
        "res = {col:df[col].value_counts() for col in df.columns}\n",
        "res['Feature_12']"
      ],
      "execution_count": 20,
      "outputs": [
        {
          "output_type": "execute_result",
          "data": {
            "text/plain": [
              "0    378\n",
              "1      1\n",
              "Name: Feature_12, dtype: int64"
            ]
          },
          "metadata": {
            "tags": []
          },
          "execution_count": 20
        }
      ]
    },
    {
      "cell_type": "code",
      "metadata": {
        "colab": {
          "base_uri": "https://localhost:8080/",
          "height": 262
        },
        "id": "YtgnfXnuiCG8",
        "outputId": "89a6ed51-0801-4a7a-f573-cc50dc4a092a"
      },
      "source": [
        "df['Feature_12'].value_counts().plot(kind='bar')\n",
        "df.drop('Feature_12', inplace=True, axis=1)"
      ],
      "execution_count": 21,
      "outputs": [
        {
          "output_type": "display_data",
          "data": {
            "image/png": "[encoded data removed]",
            "text/plain": [
              "<Figure size 432x288 with 1 Axes>"
            ]
          },
          "metadata": {
            "tags": [],
            "needs_background": "light"
          }
        }
      ]
    },
    {
      "cell_type": "markdown",
      "metadata": {
        "id": "qo_NOXKzn2Gf"
      },
      "source": [
        "None distribution"
      ]
    },
    {
      "cell_type": "code",
      "metadata": {
        "colab": {
          "base_uri": "https://localhost:8080/",
          "height": 329
        },
        "id": "IS4BJC2_iCOa",
        "outputId": "3f8f0de2-65b9-4ab6-c274-00ae069274af"
      },
      "source": [
        "df[df.columns[df.isnull().any()]].isnull().sum().plot.bar()"
      ],
      "execution_count": 22,
      "outputs": [
        {
          "output_type": "execute_result",
          "data": {
            "text/plain": [
              "<matplotlib.axes._subplots.AxesSubplot at 0x7f4db68ac290>"
            ]
          },
          "metadata": {
            "tags": []
          },
          "execution_count": 22
        },
        {
          "output_type": "display_data",
          "data": {
            "image/png": "[encoded data removed]",
            "text/plain": [
              "<Figure size 432x288 with 1 Axes>"
            ]
          },
          "metadata": {
            "tags": [],
            "needs_background": "light"
          }
        }
      ]
    },
    {
      "cell_type": "markdown",
      "metadata": {
        "id": "rG449mZXZWmX"
      },
      "source": [
        "**KNN Inputer:** Imputation for completing missing values using k-Nearest Neighbors. Each sample’s missing values are imputed using the mean value from n_neighbors nearest neighbors found in the training set. Two samples are close if the features that neither is missing are close.\n",
        "\n",
        "We used RandomForestClassifier in the pipeline because previous models which we trained, had more accurate with RandomForestClassifier."
      ]
    },
    {
      "cell_type": "code",
      "metadata": {
        "colab": {
          "base_uri": "https://localhost:8080/",
          "height": 265
        },
        "id": "m2Y60IXuqcEQ",
        "outputId": "7170e186-8e12-4394-c24b-98cb63e73e3b"
      },
      "source": [
        "results = list()\n",
        "strategies = [str(i) for i in [3,5,7,9,15,18,21]]\n",
        "for s in strategies:\n",
        "    # create the modeling pipeline\n",
        "    pipeline = Pipeline(steps=[('i', KNNImputer(n_neighbors=int(s))), ('m', RandomForestClassifier())])\n",
        "    # evaluate the model\n",
        "    cv = RepeatedStratifiedKFold(n_splits=10, n_repeats=3, random_state=1)\n",
        "    scores = cross_val_score(pipeline, df.iloc[:,1:], df['Disease'], scoring='accuracy', cv=cv, n_jobs=-1)\n",
        "    # store results\n",
        "    results.append(np.mean(scores))\n",
        "# plot model performance for comparison\n",
        "plt.plot(strategies,results)\n",
        "plt.show()"
      ],
      "execution_count": 23,
      "outputs": [
        {
          "output_type": "display_data",
          "data": {
            "image/png": "[encoded data removed]",
            "text/plain": [
              "<Figure size 432x288 with 1 Axes>"
            ]
          },
          "metadata": {
            "tags": [],
            "needs_background": "light"
          }
        }
      ]
    },
    {
      "cell_type": "code",
      "metadata": {
        "id": "FUSaAWMOqdtC"
      },
      "source": [
        "imputer = KNNImputer(n_neighbors=int(strategies[results.index(max(results))]))\n",
        "df = pd.DataFrame(imputer.fit_transform(df),columns = df.columns)"
      ],
      "execution_count": 24,
      "outputs": []
    },
    {
      "cell_type": "code",
      "metadata": {
        "colab": {
          "base_uri": "https://localhost:8080/"
        },
        "id": "9NTEvzoAqiex",
        "outputId": "e9e9531e-bb74-49dc-b04f-cc23c924ad59"
      },
      "source": [
        "df.isna().values.any()"
      ],
      "execution_count": 25,
      "outputs": [
        {
          "output_type": "execute_result",
          "data": {
            "text/plain": [
              "False"
            ]
          },
          "metadata": {
            "tags": []
          },
          "execution_count": 25
        }
      ]
    },
    {
      "cell_type": "markdown",
      "metadata": {
        "id": "2ebDW7Pl9xkV"
      },
      "source": [
        "\n",
        "## Modeling for Classification <a class=\"anchor\" id=\"classificationmodel\"></a>"
      ]
    },
    {
      "cell_type": "markdown",
      "metadata": {
        "id": "rm8osNs4ayiU"
      },
      "source": [
        "Find the best accurate classification algorithm. By looking plots we decided to use RandomForest."
      ]
    },
    {
      "cell_type": "code",
      "metadata": {
        "id": "K92ExQGXp7Qf"
      },
      "source": [
        "DT_PIPE = Pipeline(steps = [('scale',MinMaxScaler()),('DT',DecisionTreeClassifier(random_state=42))])\n",
        "RF_PIPE = Pipeline(steps = [('scale',MinMaxScaler()),('DT',RandomForestClassifier(random_state=42))])\n",
        "SVM_PIPE = Pipeline(steps = [('scale',MinMaxScaler()),('DT',SVC(random_state=42))])\n",
        "LR_PIPE = Pipeline(steps = [('scale',MinMaxScaler()),('DT',LogisticRegression(random_state=42))])"
      ],
      "execution_count": 26,
      "outputs": []
    },
    {
      "cell_type": "code",
      "metadata": {
        "id": "E6v6eyX7p_uh"
      },
      "source": [
        "DT_CROSS_VAL = cross_val_score(DT_PIPE,df.iloc[:,1:],df['Disease'],cv=10)\n",
        "RF_CROSS_VAL = cross_val_score(RF_PIPE,df.iloc[:,1:],df['Disease'],cv=10)\n",
        "SVM_CROSS_VAL = cross_val_score(SVM_PIPE,df.iloc[:,1:],df['Disease'],cv=10)\n",
        "LR_CROSS_VAL = cross_val_score(LR_PIPE,df.iloc[:,1:],df['Disease'],cv=10)"
      ],
      "execution_count": 27,
      "outputs": []
    },
    {
      "cell_type": "code",
      "metadata": {
        "colab": {
          "base_uri": "https://localhost:8080/",
          "height": 717
        },
        "id": "_tw25-R-qHYR",
        "outputId": "29fc6a55-1dd2-4d26-84da-62f3d151445b"
      },
      "source": [
        "fig = make_subplots(rows=4, cols=1,shared_xaxes=True,subplot_titles=('Decision Tree Cross Val Scores',\n",
        "                                                                     'RandomForest Cross Val Scores',\n",
        "                                                                    'SVM Cross Val Scores','Logistic Regression Cross Val Scores'))\n",
        "\n",
        "fig.add_trace(\n",
        "    go.Scatter(x=list(range(0,len(DT_CROSS_VAL))),y=DT_CROSS_VAL,name='Decision Tree'),\n",
        "    row=1, col=1\n",
        ")\n",
        "fig.add_trace(\n",
        "    go.Scatter(x=list(range(0,len(DT_CROSS_VAL))),y=RF_CROSS_VAL,name='RandomForest'),\n",
        "    row=2, col=1\n",
        ")\n",
        "fig.add_trace(\n",
        "    go.Scatter(x=list(range(0,len(DT_CROSS_VAL))),y=SVM_CROSS_VAL,name='SVM'),\n",
        "    row=3, col=1\n",
        ")\n",
        "fig.add_trace(\n",
        "    go.Scatter(x=list(range(0,len(DT_CROSS_VAL))),y=LR_CROSS_VAL,name='Logistic Regression'),\n",
        "    row=4, col=1\n",
        ")\n",
        "\n",
        "fig.update_layout(height=700, width=900, title_text=\"Different Model 5 Fold Cross Validation\")\n",
        "fig.update_yaxes(title_text=\"Score\")\n",
        "fig.update_xaxes(title_text=\"Fold #\")\n",
        "\n",
        "fig.show()"
      ],
      "execution_count": 28,
      "outputs": [
        {
          "output_type": "display_data",
          "data": {
            "text/html": [
              "<html>\n",
              "<head><meta charset=\"utf-8\" /></head>\n",
              "<body>\n",
              "    <div>\n",
              "            <script src=\"https://cdnjs.cloudflare.com/ajax/libs/mathjax/2.7.5/MathJax.js?config=TeX-AMS-MML_SVG\"></script><script type=\"text/javascript\">if (window.MathJax) {MathJax.Hub.Config({SVG: {font: \"STIX-Web\"}});}</script>\n",
              "                <script type=\"text/javascript\">window.PlotlyConfig = {MathJaxConfig: 'local'};</script>\n",
              "        <script src=\"https://cdn.plot.ly/plotly-latest.min.js\"></script>    \n",
              "            <div id=\"0eb6e3ad-2808-43a8-97d3-8af6a3778e5f\" class=\"plotly-graph-div\" style=\"height:700px; width:900px;\"></div>\n",
              "            <script type=\"text/javascript\">\n",
              "                \n",
              "                    window.PLOTLYENV=window.PLOTLYENV || {};\n",
              "                    \n",
              "                if (document.getElementById(\"0eb6e3ad-2808-43a8-97d3-8af6a3778e5f\")) {\n",
              "                    Plotly.newPlot(\n",
              "                        '0eb6e3ad-2808-43a8-97d3-8af6a3778e5f',\n",
              "                        [{\"name\": \"Decision Tree\", \"type\": \"scatter\", \"x\": [0, 1, 2, 3, 4, 5, 6, 7, 8, 9], \"xaxis\": \"x\", \"y\": [0.8157894736842105, 0.9473684210526315, 1.0, 1.0, 0.9473684210526315, 1.0, 0.8947368421052632, 0.9473684210526315, 0.868421052631579, 0.8108108108108109], \"yaxis\": \"y\"}, {\"name\": \"RandomForest\", \"type\": \"scatter\", \"x\": [0, 1, 2, 3, 4, 5, 6, 7, 8, 9], \"xaxis\": \"x2\", \"y\": [0.868421052631579, 0.9473684210526315, 1.0, 1.0, 1.0, 1.0, 0.9736842105263158, 1.0, 0.9210526315789473, 0.8108108108108109], \"yaxis\": \"y2\"}, {\"name\": \"SVM\", \"type\": \"scatter\", \"x\": [0, 1, 2, 3, 4, 5, 6, 7, 8, 9], \"xaxis\": \"x3\", \"y\": [0.868421052631579, 0.9210526315789473, 1.0, 1.0, 1.0, 1.0, 0.868421052631579, 0.9210526315789473, 0.8421052631578947, 0.8108108108108109], \"yaxis\": \"y3\"}, {\"name\": \"Logistic Regression\", \"type\": \"scatter\", \"x\": [0, 1, 2, 3, 4, 5, 6, 7, 8, 9], \"xaxis\": \"x4\", \"y\": [0.868421052631579, 0.9473684210526315, 1.0, 1.0, 0.9736842105263158, 1.0, 0.9210526315789473, 0.9473684210526315, 0.8421052631578947, 0.8108108108108109], \"yaxis\": \"y4\"}],\n",
              "                        {\"annotations\": [{\"font\": {\"size\": 16}, \"showarrow\": false, \"text\": \"Decision Tree Cross Val Scores\", \"x\": 0.5, \"xanchor\": \"center\", \"xref\": \"paper\", \"y\": 1.0, \"yanchor\": \"bottom\", \"yref\": \"paper\"}, {\"font\": {\"size\": 16}, \"showarrow\": false, \"text\": \"RandomForest Cross Val Scores\", \"x\": 0.5, \"xanchor\": \"center\", \"xref\": \"paper\", \"y\": 0.71875, \"yanchor\": \"bottom\", \"yref\": \"paper\"}, {\"font\": {\"size\": 16}, \"showarrow\": false, \"text\": \"SVM Cross Val Scores\", \"x\": 0.5, \"xanchor\": \"center\", \"xref\": \"paper\", \"y\": 0.4375, \"yanchor\": \"bottom\", \"yref\": \"paper\"}, {\"font\": {\"size\": 16}, \"showarrow\": false, \"text\": \"Logistic Regression Cross Val Scores\", \"x\": 0.5, \"xanchor\": \"center\", \"xref\": \"paper\", \"y\": 0.15625, \"yanchor\": \"bottom\", \"yref\": \"paper\"}], \"height\": 700, \"template\": {\"data\": {\"bar\": [{\"error_x\": {\"color\": \"#2a3f5f\"}, \"error_y\": {\"color\": \"#2a3f5f\"}, \"marker\": {\"line\": {\"color\": \"#E5ECF6\", \"width\": 0.5}}, \"type\": \"bar\"}], \"barpolar\": [{\"marker\": {\"line\": {\"color\": \"#E5ECF6\", \"width\": 0.5}}, \"type\": \"barpolar\"}], \"carpet\": [{\"aaxis\": {\"endlinecolor\": \"#2a3f5f\", \"gridcolor\": \"white\", \"linecolor\": \"white\", \"minorgridcolor\": \"white\", \"startlinecolor\": \"#2a3f5f\"}, \"baxis\": {\"endlinecolor\": \"#2a3f5f\", \"gridcolor\": \"white\", \"linecolor\": \"white\", \"minorgridcolor\": \"white\", \"startlinecolor\": \"#2a3f5f\"}, \"type\": \"carpet\"}], \"choropleth\": [{\"colorbar\": {\"outlinewidth\": 0, \"ticks\": \"\"}, \"type\": \"choropleth\"}], \"contour\": [{\"colorbar\": {\"outlinewidth\": 0, \"ticks\": \"\"}, \"colorscale\": [[0.0, \"#0d0887\"], [0.1111111111111111, \"#46039f\"], [0.2222222222222222, \"#7201a8\"], [0.3333333333333333, \"#9c179e\"], [0.4444444444444444, \"#bd3786\"], [0.5555555555555556, \"#d8576b\"], [0.6666666666666666, \"#ed7953\"], [0.7777777777777778, \"#fb9f3a\"], [0.8888888888888888, \"#fdca26\"], [1.0, \"#f0f921\"]], \"type\": \"contour\"}], \"contourcarpet\": [{\"colorbar\": {\"outlinewidth\": 0, \"ticks\": \"\"}, \"type\": \"contourcarpet\"}], \"heatmap\": [{\"colorbar\": {\"outlinewidth\": 0, \"ticks\": \"\"}, \"colorscale\": [[0.0, \"#0d0887\"], [0.1111111111111111, \"#46039f\"], [0.2222222222222222, \"#7201a8\"], [0.3333333333333333, \"#9c179e\"], [0.4444444444444444, \"#bd3786\"], [0.5555555555555556, \"#d8576b\"], [0.6666666666666666, \"#ed7953\"], [0.7777777777777778, \"#fb9f3a\"], [0.8888888888888888, \"#fdca26\"], [1.0, \"#f0f921\"]], \"type\": \"heatmap\"}], \"heatmapgl\": [{\"colorbar\": {\"outlinewidth\": 0, \"ticks\": \"\"}, \"colorscale\": [[0.0, \"#0d0887\"], [0.1111111111111111, \"#46039f\"], [0.2222222222222222, \"#7201a8\"], [0.3333333333333333, \"#9c179e\"], [0.4444444444444444, \"#bd3786\"], [0.5555555555555556, \"#d8576b\"], [0.6666666666666666, \"#ed7953\"], [0.7777777777777778, \"#fb9f3a\"], [0.8888888888888888, \"#fdca26\"], [1.0, \"#f0f921\"]], \"type\": \"heatmapgl\"}], \"histogram\": [{\"marker\": {\"colorbar\": {\"outlinewidth\": 0, \"ticks\": \"\"}}, \"type\": \"histogram\"}], \"histogram2d\": [{\"colorbar\": {\"outlinewidth\": 0, \"ticks\": \"\"}, \"colorscale\": [[0.0, \"#0d0887\"], [0.1111111111111111, \"#46039f\"], [0.2222222222222222, \"#7201a8\"], [0.3333333333333333, \"#9c179e\"], [0.4444444444444444, \"#bd3786\"], [0.5555555555555556, \"#d8576b\"], [0.6666666666666666, \"#ed7953\"], [0.7777777777777778, \"#fb9f3a\"], [0.8888888888888888, \"#fdca26\"], [1.0, \"#f0f921\"]], \"type\": \"histogram2d\"}], \"histogram2dcontour\": [{\"colorbar\": {\"outlinewidth\": 0, \"ticks\": \"\"}, \"colorscale\": [[0.0, \"#0d0887\"], [0.1111111111111111, \"#46039f\"], [0.2222222222222222, \"#7201a8\"], [0.3333333333333333, \"#9c179e\"], [0.4444444444444444, \"#bd3786\"], [0.5555555555555556, \"#d8576b\"], [0.6666666666666666, \"#ed7953\"], [0.7777777777777778, \"#fb9f3a\"], [0.8888888888888888, \"#fdca26\"], [1.0, \"#f0f921\"]], \"type\": \"histogram2dcontour\"}], \"mesh3d\": [{\"colorbar\": {\"outlinewidth\": 0, \"ticks\": \"\"}, \"type\": \"mesh3d\"}], \"parcoords\": [{\"line\": {\"colorbar\": {\"outlinewidth\": 0, \"ticks\": \"\"}}, \"type\": \"parcoords\"}], \"pie\": [{\"automargin\": true, \"type\": \"pie\"}], \"scatter\": [{\"marker\": {\"colorbar\": {\"outlinewidth\": 0, \"ticks\": \"\"}}, \"type\": \"scatter\"}], \"scatter3d\": [{\"line\": {\"colorbar\": {\"outlinewidth\": 0, \"ticks\": \"\"}}, \"marker\": {\"colorbar\": {\"outlinewidth\": 0, \"ticks\": \"\"}}, \"type\": \"scatter3d\"}], \"scattercarpet\": [{\"marker\": {\"colorbar\": {\"outlinewidth\": 0, \"ticks\": \"\"}}, \"type\": \"scattercarpet\"}], \"scattergeo\": [{\"marker\": {\"colorbar\": {\"outlinewidth\": 0, \"ticks\": \"\"}}, \"type\": \"scattergeo\"}], \"scattergl\": [{\"marker\": {\"colorbar\": {\"outlinewidth\": 0, \"ticks\": \"\"}}, \"type\": \"scattergl\"}], \"scattermapbox\": [{\"marker\": {\"colorbar\": {\"outlinewidth\": 0, \"ticks\": \"\"}}, \"type\": \"scattermapbox\"}], \"scatterpolar\": [{\"marker\": {\"colorbar\": {\"outlinewidth\": 0, \"ticks\": \"\"}}, \"type\": \"scatterpolar\"}], \"scatterpolargl\": [{\"marker\": {\"colorbar\": {\"outlinewidth\": 0, \"ticks\": \"\"}}, \"type\": \"scatterpolargl\"}], \"scatterternary\": [{\"marker\": {\"colorbar\": {\"outlinewidth\": 0, \"ticks\": \"\"}}, \"type\": \"scatterternary\"}], \"surface\": [{\"colorbar\": {\"outlinewidth\": 0, \"ticks\": \"\"}, \"colorscale\": [[0.0, \"#0d0887\"], [0.1111111111111111, \"#46039f\"], [0.2222222222222222, \"#7201a8\"], [0.3333333333333333, \"#9c179e\"], [0.4444444444444444, \"#bd3786\"], [0.5555555555555556, \"#d8576b\"], [0.6666666666666666, \"#ed7953\"], [0.7777777777777778, \"#fb9f3a\"], [0.8888888888888888, \"#fdca26\"], [1.0, \"#f0f921\"]], \"type\": \"surface\"}], \"table\": [{\"cells\": {\"fill\": {\"color\": \"#EBF0F8\"}, \"line\": {\"color\": \"white\"}}, \"header\": {\"fill\": {\"color\": \"#C8D4E3\"}, \"line\": {\"color\": \"white\"}}, \"type\": \"table\"}]}, \"layout\": {\"annotationdefaults\": {\"arrowcolor\": \"#2a3f5f\", \"arrowhead\": 0, \"arrowwidth\": 1}, \"coloraxis\": {\"colorbar\": {\"outlinewidth\": 0, \"ticks\": \"\"}}, \"colorscale\": {\"diverging\": [[0, \"#8e0152\"], [0.1, \"#c51b7d\"], [0.2, \"#de77ae\"], [0.3, \"#f1b6da\"], [0.4, \"#fde0ef\"], [0.5, \"#f7f7f7\"], [0.6, \"#e6f5d0\"], [0.7, \"#b8e186\"], [0.8, \"#7fbc41\"], [0.9, \"#4d9221\"], [1, \"#276419\"]], \"sequential\": [[0.0, \"#0d0887\"], [0.1111111111111111, \"#46039f\"], [0.2222222222222222, \"#7201a8\"], [0.3333333333333333, \"#9c179e\"], [0.4444444444444444, \"#bd3786\"], [0.5555555555555556, \"#d8576b\"], [0.6666666666666666, \"#ed7953\"], [0.7777777777777778, \"#fb9f3a\"], [0.8888888888888888, \"#fdca26\"], [1.0, \"#f0f921\"]], \"sequentialminus\": [[0.0, \"#0d0887\"], [0.1111111111111111, \"#46039f\"], [0.2222222222222222, \"#7201a8\"], [0.3333333333333333, \"#9c179e\"], [0.4444444444444444, \"#bd3786\"], [0.5555555555555556, \"#d8576b\"], [0.6666666666666666, \"#ed7953\"], [0.7777777777777778, \"#fb9f3a\"], [0.8888888888888888, \"#fdca26\"], [1.0, \"#f0f921\"]]}, \"colorway\": [\"#636efa\", \"#EF553B\", \"#00cc96\", \"#ab63fa\", \"#FFA15A\", \"#19d3f3\", \"#FF6692\", \"#B6E880\", \"#FF97FF\", \"#FECB52\"], \"font\": {\"color\": \"#2a3f5f\"}, \"geo\": {\"bgcolor\": \"white\", \"lakecolor\": \"white\", \"landcolor\": \"#E5ECF6\", \"showlakes\": true, \"showland\": true, \"subunitcolor\": \"white\"}, \"hoverlabel\": {\"align\": \"left\"}, \"hovermode\": \"closest\", \"mapbox\": {\"style\": \"light\"}, \"paper_bgcolor\": \"white\", \"plot_bgcolor\": \"#E5ECF6\", \"polar\": {\"angularaxis\": {\"gridcolor\": \"white\", \"linecolor\": \"white\", \"ticks\": \"\"}, \"bgcolor\": \"#E5ECF6\", \"radialaxis\": {\"gridcolor\": \"white\", \"linecolor\": \"white\", \"ticks\": \"\"}}, \"scene\": {\"xaxis\": {\"backgroundcolor\": \"#E5ECF6\", \"gridcolor\": \"white\", \"gridwidth\": 2, \"linecolor\": \"white\", \"showbackground\": true, \"ticks\": \"\", \"zerolinecolor\": \"white\"}, \"yaxis\": {\"backgroundcolor\": \"#E5ECF6\", \"gridcolor\": \"white\", \"gridwidth\": 2, \"linecolor\": \"white\", \"showbackground\": true, \"ticks\": \"\", \"zerolinecolor\": \"white\"}, \"zaxis\": {\"backgroundcolor\": \"#E5ECF6\", \"gridcolor\": \"white\", \"gridwidth\": 2, \"linecolor\": \"white\", \"showbackground\": true, \"ticks\": \"\", \"zerolinecolor\": \"white\"}}, \"shapedefaults\": {\"line\": {\"color\": \"#2a3f5f\"}}, \"ternary\": {\"aaxis\": {\"gridcolor\": \"white\", \"linecolor\": \"white\", \"ticks\": \"\"}, \"baxis\": {\"gridcolor\": \"white\", \"linecolor\": \"white\", \"ticks\": \"\"}, \"bgcolor\": \"#E5ECF6\", \"caxis\": {\"gridcolor\": \"white\", \"linecolor\": \"white\", \"ticks\": \"\"}}, \"title\": {\"x\": 0.05}, \"xaxis\": {\"automargin\": true, \"gridcolor\": \"white\", \"linecolor\": \"white\", \"ticks\": \"\", \"title\": {\"standoff\": 15}, \"zerolinecolor\": \"white\", \"zerolinewidth\": 2}, \"yaxis\": {\"automargin\": true, \"gridcolor\": \"white\", \"linecolor\": \"white\", \"ticks\": \"\", \"title\": {\"standoff\": 15}, \"zerolinecolor\": \"white\", \"zerolinewidth\": 2}}}, \"title\": {\"text\": \"Different Model 5 Fold Cross Validation\"}, \"width\": 900, \"xaxis\": {\"anchor\": \"y\", \"domain\": [0.0, 1.0], \"matches\": \"x4\", \"showticklabels\": false, \"title\": {\"text\": \"Fold #\"}}, \"xaxis2\": {\"anchor\": \"y2\", \"domain\": [0.0, 1.0], \"matches\": \"x4\", \"showticklabels\": false, \"title\": {\"text\": \"Fold #\"}}, \"xaxis3\": {\"anchor\": \"y3\", \"domain\": [0.0, 1.0], \"matches\": \"x4\", \"showticklabels\": false, \"title\": {\"text\": \"Fold #\"}}, \"xaxis4\": {\"anchor\": \"y4\", \"domain\": [0.0, 1.0], \"title\": {\"text\": \"Fold #\"}}, \"yaxis\": {\"anchor\": \"x\", \"domain\": [0.84375, 1.0], \"title\": {\"text\": \"Score\"}}, \"yaxis2\": {\"anchor\": \"x2\", \"domain\": [0.5625, 0.71875], \"title\": {\"text\": \"Score\"}}, \"yaxis3\": {\"anchor\": \"x3\", \"domain\": [0.28125, 0.4375], \"title\": {\"text\": \"Score\"}}, \"yaxis4\": {\"anchor\": \"x4\", \"domain\": [0.0, 0.15625], \"title\": {\"text\": \"Score\"}}},\n",
              "                        {\"responsive\": true}\n",
              "                    ).then(function(){\n",
              "                            \n",
              "var gd = document.getElementById('0eb6e3ad-2808-43a8-97d3-8af6a3778e5f');\n",
              "var x = new MutationObserver(function (mutations, observer) {{\n",
              "        var display = window.getComputedStyle(gd).display;\n",
              "        if (!display || display === 'none') {{\n",
              "            console.log([gd, 'removed!']);\n",
              "            Plotly.purge(gd);\n",
              "            observer.disconnect();\n",
              "        }}\n",
              "}});\n",
              "\n",
              "// Listen for the removal of the full notebook cells\n",
              "var notebookContainer = gd.closest('#notebook-container');\n",
              "if (notebookContainer) {{\n",
              "    x.observe(notebookContainer, {childList: true});\n",
              "}}\n",
              "\n",
              "// Listen for the clearing of the current output cell\n",
              "var outputEl = gd.closest('.output');\n",
              "if (outputEl) {{\n",
              "    x.observe(outputEl, {childList: true});\n",
              "}}\n",
              "\n",
              "                        })\n",
              "                };\n",
              "                \n",
              "            </script>\n",
              "        </div>\n",
              "</body>\n",
              "</html>"
            ]
          },
          "metadata": {
            "tags": []
          }
        }
      ]
    },
    {
      "cell_type": "markdown",
      "metadata": {
        "id": "u4W1ksi_nM8G"
      },
      "source": [
        "Select top 7 features. We got these features from previous model's most top importance features."
      ]
    },
    {
      "cell_type": "code",
      "metadata": {
        "id": "SMe47VJnfucu"
      },
      "source": [
        "df = df[['Disease','Feature_5','Feature_27','Feature_28_Every Day','Feature_28_1-2 Days a Week', 'Feature_28_3-4 Days a Week','Feature_33','Feature_37','Feature_39', 'Feature_43']]"
      ],
      "execution_count": 29,
      "outputs": []
    },
    {
      "cell_type": "markdown",
      "metadata": {
        "id": "Xv9pGEP0D4gO"
      },
      "source": [
        "Split the dataset %70 train and %30 test\n",
        "\n",
        "**random_state:** Controls the shuffling applied to the data before applying the split. Pass an int for reproducible output across multiple function calls.\n",
        "\n",
        "**stratify:** If not None, data is split in a stratified fashion, using this as the class labels. We used 'Disease' feature because We want to distribute 'Disease' feature evenly distributed."
      ]
    },
    {
      "cell_type": "markdown",
      "metadata": {
        "id": "eUkpiAeiDU9Q"
      },
      "source": [
        "Train text split"
      ]
    },
    {
      "cell_type": "code",
      "metadata": {
        "id": "RRlahMvTDT5v"
      },
      "source": [
        "x_train, x_test, y_train, y_test = train_test_split(df.iloc[:,1:],df['Disease'],test_size = 0.3,random_state=1,stratify=df['Disease'], shuffle=True)"
      ],
      "execution_count": 30,
      "outputs": []
    },
    {
      "cell_type": "markdown",
      "metadata": {
        "id": "83JEhJYgdZe5"
      },
      "source": [
        "Min-Max Normalize"
      ]
    },
    {
      "cell_type": "code",
      "metadata": {
        "id": "wg8DvShydVtO"
      },
      "source": [
        "scaler = MinMaxScaler()\n",
        "x_train = scaler.fit_transform(x_train)\n",
        "x_test = scaler.transform(x_test)"
      ],
      "execution_count": 31,
      "outputs": []
    },
    {
      "cell_type": "markdown",
      "metadata": {
        "id": "YYKysbjqDi6G"
      },
      "source": [
        "Evaluate cross_val_score to prevent overfitting\n",
        "\n",
        "cv: Determines the cross-validation splitting strategy. We used 5 so it means it will use (Stratified)KFold with 5 folds"
      ]
    },
    {
      "cell_type": "code",
      "metadata": {
        "id": "2ahtTjZUDmkd",
        "colab": {
          "base_uri": "https://localhost:8080/"
        },
        "outputId": "1adeac9a-b729-4a8c-bad2-f10348596819"
      },
      "source": [
        "cv = RandomForestClassifier()\n",
        "accuracies = cross_val_score(estimator = cv, X = x_train, y= y_train, cv = 5)\n",
        "print(\"average accuracy: \",np.mean(accuracies))\n",
        "print(\"average std: \",np.std(accuracies))"
      ],
      "execution_count": 32,
      "outputs": [
        {
          "output_type": "stream",
          "text": [
            "average accuracy:  0.9584905660377359\n",
            "average std:  0.025031130493248295\n"
          ],
          "name": "stdout"
        }
      ]
    },
    {
      "cell_type": "markdown",
      "metadata": {
        "id": "NorAlGYADKKE"
      },
      "source": [
        "We used **Random Forest** for classification because it is more suitable than other algorithms We tried other algorithms such as SVM, Logistic Regression. Random forrest provides more accuracy and reliable model.\n",
        "\n",
        "**n_estimators**: The number of trees in the forest.\n",
        "\n",
        "**max_features**: The maximum depth of the tree. If None, then nodes are expanded until all leaves are pure or until all leaves contain less than min_samples_split samples.\n",
        "\n",
        "**max_depth**: The maximum depth of the tree. If None, then nodes are expanded until all leaves are pure or until all leaves contain less than min_samples_split samples.\n",
        "\n",
        "**GridSearchCV**: Exhaustive search over specified parameter values for an estimator."
      ]
    },
    {
      "cell_type": "markdown",
      "metadata": {
        "id": "9fBR8zMSEHUT"
      },
      "source": [
        "Find best parameters for Random Forrest by using GridSearchCV"
      ]
    },
    {
      "cell_type": "code",
      "metadata": {
        "id": "3iGT4Vwsujhz",
        "colab": {
          "base_uri": "https://localhost:8080/"
        },
        "outputId": "ce4a22d7-1410-433d-ab52-7592486cadca"
      },
      "source": [
        "# Number of trees in random forest\n",
        "n_estimators = [100, 200, 300, 500]\n",
        "# Number of features to consider at every split\n",
        "max_features = ['auto', 'sqrt']\n",
        "# Maximum number of levels in tree\n",
        "max_depth = [None, 10, 80, 90, 100, 110]\n",
        "\n",
        "# Create the random grid\n",
        "random_grid = {'n_estimators': n_estimators,\n",
        "               'max_features': max_features,\n",
        "               'max_depth': max_depth}\n",
        "\n",
        "rf = RandomForestClassifier()\n",
        "rf_cv = GridSearchCV(rf, random_grid, cv = 5)\n",
        "rf_cv.fit(x_train, y_train)\n",
        "\n",
        "print(\"Hyperparameter: \",rf_cv.best_params_)\n",
        "print(\"Best accuracy:  \",rf_cv.best_score_)"
      ],
      "execution_count": 33,
      "outputs": [
        {
          "output_type": "stream",
          "text": [
            "Hyperparameter:  {'max_depth': 100, 'max_features': 'sqrt', 'n_estimators': 300}\n",
            "Best accuracy:   0.9660377358490566\n"
          ],
          "name": "stdout"
        }
      ]
    },
    {
      "cell_type": "markdown",
      "metadata": {
        "id": "G1_vZLkPEL_z"
      },
      "source": [
        "Fit the model with best parameters we found"
      ]
    },
    {
      "cell_type": "code",
      "metadata": {
        "id": "dK14FWIHEP_O",
        "colab": {
          "base_uri": "https://localhost:8080/"
        },
        "outputId": "5cc93752-06c5-439e-ab9e-e6899452bf18"
      },
      "source": [
        "rf = RandomForestClassifier(\n",
        "    n_estimators=rf_cv.best_params_[\"n_estimators\"],\n",
        "    max_depth=rf_cv.best_params_[\"max_depth\"],\n",
        "    max_features=rf_cv.best_params_[\"max_features\"]\n",
        ")\n",
        "rf.fit(x_train, y_train)"
      ],
      "execution_count": 34,
      "outputs": [
        {
          "output_type": "execute_result",
          "data": {
            "text/plain": [
              "RandomForestClassifier(bootstrap=True, ccp_alpha=0.0, class_weight=None,\n",
              "                       criterion='gini', max_depth=100, max_features='sqrt',\n",
              "                       max_leaf_nodes=None, max_samples=None,\n",
              "                       min_impurity_decrease=0.0, min_impurity_split=None,\n",
              "                       min_samples_leaf=1, min_samples_split=2,\n",
              "                       min_weight_fraction_leaf=0.0, n_estimators=300,\n",
              "                       n_jobs=None, oob_score=False, random_state=None,\n",
              "                       verbose=0, warm_start=False)"
            ]
          },
          "metadata": {
            "tags": []
          },
          "execution_count": 34
        }
      ]
    },
    {
      "cell_type": "markdown",
      "metadata": {
        "id": "1Vxg2ptipGNZ"
      },
      "source": [
        "## Evaluation<a class=\"anchor\" id=\"evaluation\"></a>"
      ]
    },
    {
      "cell_type": "markdown",
      "metadata": {
        "id": "w7TOPfGlFAFf"
      },
      "source": [
        "In statistics, the coefficient of determination, denoted R^2, is the proportion of the variance in the dependent variable that is predictable from the independent variable(s).\n",
        "\n",
        "R^2 score of model"
      ]
    },
    {
      "cell_type": "code",
      "metadata": {
        "id": "jpLkiP1xpGNa",
        "colab": {
          "base_uri": "https://localhost:8080/"
        },
        "outputId": "3a15a6f1-3abf-49d9-ae23-9f8904375e67"
      },
      "source": [
        "rf.score(x_test,y_test)"
      ],
      "execution_count": 35,
      "outputs": [
        {
          "output_type": "execute_result",
          "data": {
            "text/plain": [
              "0.9649122807017544"
            ]
          },
          "metadata": {
            "tags": []
          },
          "execution_count": 35
        }
      ]
    },
    {
      "cell_type": "markdown",
      "metadata": {
        "id": "OA-dJVmFpGNy"
      },
      "source": [
        "Top 7 feature importances of the model"
      ]
    },
    {
      "cell_type": "code",
      "metadata": {
        "id": "qREn94uEpGNy",
        "colab": {
          "base_uri": "https://localhost:8080/",
          "height": 283
        },
        "outputId": "99c1ace6-9238-4ddb-dd3e-c06c68152350"
      },
      "source": [
        "importances = pd.Series(rf.feature_importances_, index=df.iloc[:,1:].columns)\n",
        "importances.nlargest(7).plot(kind='barh')"
      ],
      "execution_count": 36,
      "outputs": [
        {
          "output_type": "execute_result",
          "data": {
            "text/plain": [
              "<matplotlib.axes._subplots.AxesSubplot at 0x7f4db69992d0>"
            ]
          },
          "metadata": {
            "tags": []
          },
          "execution_count": 36
        },
        {
          "output_type": "display_data",
          "data": {
            "image/png": "[encoded data removed]",
            "text/plain": [
              "<Figure size 432x288 with 1 Axes>"
            ]
          },
          "metadata": {
            "tags": [],
            "needs_background": "light"
          }
        }
      ]
    },
    {
      "cell_type": "markdown",
      "metadata": {
        "id": "3PvC3JMWFhXT"
      },
      "source": [
        "**confusion_matrix:** Compute confusion matrix to evaluate the accuracy of a classification. Rows are predicted values columns are actual values so that we can evaluate our model using these informations.\n",
        "\n",
        "**True Positives (TP):** These are the correctly predicted positive values which means that the value of actual class is yes and the value of predicted class is also yes.\n",
        "\n",
        "**True Negatives (TN):** These are the correctly predicted negative values which means that the value of actual class is no and value of predicted class is also no.\n",
        "\n",
        "**False Positives (FP):** When actual class is no and predicted class is yes.\n",
        "\n",
        "**False Negatives (FN):** When actual class is yes but predicted class in no."
      ]
    },
    {
      "cell_type": "markdown",
      "metadata": {
        "id": "ZmFTwc9uFjYp"
      },
      "source": [
        "Confusition matrix for model"
      ]
    },
    {
      "cell_type": "code",
      "metadata": {
        "id": "q3NjBGqHFieV",
        "colab": {
          "base_uri": "https://localhost:8080/",
          "height": 447
        },
        "outputId": "48c849b5-c25f-46ab-f04c-4389329b7ab9"
      },
      "source": [
        "x_pred_test = rf.predict(x_test)\n",
        "confusiton_matrix_df = pd.DataFrame(confusion_matrix(y_test, x_pred_test), index = [i for i in ['Disease_1', 'Disease_2', 'Disease_3', 'Disease_4']],\n",
        "                  columns = [i for i in ['Disease_1', 'Disease_2', 'Disease_3', 'Disease_4']])\n",
        "plt.figure(figsize = (7,7))\n",
        "sns.heatmap(confusiton_matrix_df, annot=True)"
      ],
      "execution_count": 37,
      "outputs": [
        {
          "output_type": "execute_result",
          "data": {
            "text/plain": [
              "<matplotlib.axes._subplots.AxesSubplot at 0x7f4db5c3b910>"
            ]
          },
          "metadata": {
            "tags": []
          },
          "execution_count": 37
        },
        {
          "output_type": "display_data",
          "data": {
            "image/png": "[encoded data removed]",
            "text/plain": [
              "<Figure size 504x504 with 2 Axes>"
            ]
          },
          "metadata": {
            "tags": [],
            "needs_background": "light"
          }
        }
      ]
    },
    {
      "cell_type": "markdown",
      "metadata": {
        "id": "KvIjWwuNF48w"
      },
      "source": [
        "**classification_report:** The classification report visualizer displays the precision, recall, F1, and support scores for the model.\n",
        "\n",
        "**Precision**: Precision is the ratio of correctly predicted positive observations to the total predicted positive observations.(TP/TP+FP)\n",
        "\n",
        "**Recall**: Recall is the ratio of correctly predicted positive observations to the all observations in actual class - yes.(TP/TP+FN)\n",
        "\n",
        "**F1 Score:** The F1 score can be interpreted as a weighted average of the precision and recall, where an F1 score reaches its best value at 1 and worst score at 0. The relative contribution of precision and recall to the F1 score are equal. The formula for the F1 score is:\n",
        "\n",
        "**F1** = 2 * (Precision * Recall) / (Precision + Recall)\n",
        "\n",
        "Classification report for model"
      ]
    },
    {
      "cell_type": "code",
      "metadata": {
        "id": "JKGoxfuKF8Ov",
        "colab": {
          "base_uri": "https://localhost:8080/"
        },
        "outputId": "b8e89f68-aca4-41cd-823f-40e81f823866"
      },
      "source": [
        "print(classification_report(y_test, x_pred_test))"
      ],
      "execution_count": 38,
      "outputs": [
        {
          "output_type": "stream",
          "text": [
            "              precision    recall  f1-score   support\n",
            "\n",
            "         0.0       0.99      0.97      0.98        68\n",
            "         1.0       0.88      0.93      0.90        15\n",
            "         2.0       1.00      0.96      0.98        23\n",
            "         3.0       0.89      1.00      0.94         8\n",
            "\n",
            "    accuracy                           0.96       114\n",
            "   macro avg       0.94      0.97      0.95       114\n",
            "weighted avg       0.97      0.96      0.97       114\n",
            "\n"
          ],
          "name": "stdout"
        }
      ]
    },
    {
      "cell_type": "markdown",
      "metadata": {
        "id": "0MsV6l1Vc4Ba"
      },
      "source": [
        "Dump the model, scaler, and some informations which we need in Django form part to the .pkl file."
      ]
    },
    {
      "cell_type": "code",
      "metadata": {
        "id": "hBsbb2mlU5tR"
      },
      "source": [
        "export = {\n",
        "    'model': rf,\n",
        "    'model_features': df.drop('Disease',axis=1).columns.values,\n",
        "    'scaler': scaler,\n",
        "    'form_data': form_data,\n",
        "    'categorical_data': categorical_data\n",
        "}\n",
        "joblib.dump(export, './django/export.pkl')"
      ],
      "execution_count": null,
      "outputs": []
    },
    {
      "cell_type": "markdown",
      "metadata": {
        "id": "e-4dIZj6pGN4"
      },
      "source": [
        "## References<a class=\"anchor\" id=\"references\"></a>"
      ]
    },
    {
      "cell_type": "markdown",
      "metadata": {
        "id": "w1TPMpWQmbJn"
      },
      "source": [
        "[1] https://pandas.pydata.org/docs/reference/api/pandas.get_dummies.html\n",
        "\n",
        "[2] https://machinelearningmastery.com/knn-imputation-for-missing-values-in-machine-learning/\n",
        "\n",
        "[3] https://scikit-learn.org/stable/modules/generated/sklearn.impute.KNNImputer.html\n",
        "\n",
        "[4] https://towardsdatascience.com/boxplot-for-anomaly-detection-9eac783382fd\n",
        "\n",
        "[5] https://medium.com/@agarwal.vishal819/outlier-detection-with-boxplots-1b6757fafa21\n",
        "\n",
        "[6] https://medium.com/@venkatasujit272/overview-of-cross-validation-3785d5414ece\n",
        "\n",
        "[7] https://scikit-learn.org/0.17/modules/generated/sklearn.metrics.r2_score.html\n",
        "\n",
        "[8] https://vitalflux.com/micro-average-macro-average-scoring-metrics-multi-class-classification-python/\n",
        "\n",
        "[9] https://medium.com/@kohlishivam5522/understanding-a-classification-report-for-your-machine-learning-model-88815e2ce397\n",
        "\n",
        "[10] https://scikit-learn.org/stable/modules/generated/sklearn.model_selection.GridSearchCV.html\n",
        "\n",
        "[11] https://towardsdatascience.com/clustering-why-to-use-it-16d8e2fbafe#:~:text=Inertia%20is%20the%20sum%20of,how%20dense%20the%20clusters%20are\n",
        "\n",
        "[12] https://scikit-learn.org/stable/modules/generated/sklearn.model_selection.train_test_split.html\n",
        "\n",
        "[13] https://towardsdatascience.com/hyperparameter-tuning-the-random-forest-in-python-using-scikit-learn-28d2aa77dd74\n",
        "\n",
        "[14] https://scikit-learn.org/stable/modules/generated/sklearn.metrics.classification_report.html\n",
        "\n",
        "[15] https://scikit-learn.org/stable/modules/generated/sklearn.metrics.confusion_matrix.html\n",
        "\n",
        "[16] https://blog.exsilio.com/all/accuracy-precision-recall-f1-score-interpretation-of-performance-measures/"
      ]
    },
    {
      "cell_type": "markdown",
      "metadata": {
        "id": "qe-ObfH2pGOH"
      },
      "source": [
        "\n",
        "**Disclaimer!** <font color='grey'>This notebook was prepared by <student name(s)> as an assigment for the *BBM469 - Data Intensive Applications Laboratory* class. The notebook is available for educational purposes only. There is no guarantee on the correctness of the content provided as it is a student work.\n",
        "\n",
        "If you think there is any copyright violation, please let us [know](https://forms.gle/BNNRB2kR8ZHVEREq8). \n",
        "</font>"
      ]
    }
  ]
}